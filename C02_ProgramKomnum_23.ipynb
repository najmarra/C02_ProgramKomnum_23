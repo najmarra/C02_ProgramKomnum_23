{
  "nbformat": 4,
  "nbformat_minor": 0,
  "metadata": {
    "colab": {
      "provenance": []
    },
    "kernelspec": {
      "name": "python3",
      "display_name": "Python 3"
    },
    "language_info": {
      "name": "python"
    }
  },
  "cells": [
    {
      "cell_type": "code",
      "execution_count": 10,
      "metadata": {
        "colab": {
          "base_uri": "https://localhost:8080/"
        },
        "id": "8nQmai3DLMXu",
        "outputId": "921b9eef-b2bd-42f4-cc8a-d1a2eb72f5ea"
      },
      "outputs": [
        {
          "output_type": "stream",
          "name": "stdout",
          "text": [
            "Masukkan persamaan (misal: f(x) = x**3 + 2*x**2 + 3*x + 4): x**3 + 4*x**2 - 59*x - 126\n",
            "Hasil Iterasi 1: b0 = 0, a1 = 4, a0 = -59\n",
            "Hasil Iterasi 2: b0 = 2.14, a1 = 1.86, a0 = -63.0\n",
            "Hasil Iterasi 3: b0 = 2.00, a1 = 2.00, a0 = -63.0\n",
            "\n",
            "Akar-akar persamaan dari faktorisasi:\n",
            "Akar 1: -2\n",
            "Akar 2: -9\n",
            "Akar 3: 7\n"
          ]
        }
      ],
      "source": [
        "from sympy import symbols, sympify, Poly\n",
        "import numpy as np\n",
        "\n",
        "def persamaan(equation_str):\n",
        "    x = symbols('x')\n",
        "    expr = sympify(equation_str)\n",
        "    poly = Poly(expr, x)\n",
        "    coeffs = poly.all_coeffs()\n",
        "    return coeffs\n",
        "\n",
        "def faktorisasi(A2, A1, A0):\n",
        "    results = []\n",
        "\n",
        "    # Iterasi 1\n",
        "    b0 = 0\n",
        "    a1 = round(A2 - b0, 2)\n",
        "    a0 = round(A1 - a1 * b0, 2)\n",
        "    results.append((b0, a1, a0))\n",
        "\n",
        "    # Iterasi 2\n",
        "    b0 = round(A0 / a0, 2)\n",
        "    a1 = round(A2 - b0, 2)\n",
        "    a0 = round(A1 - a1 * b0, 2)\n",
        "    results.append((b0, a1, a0))\n",
        "\n",
        "    # Iterasi 3\n",
        "    b0 = round(A0 / a0, 2)\n",
        "    a1 = round(A2 - b0, 2)\n",
        "    a0 = round(A1 - a1 * b0, 2)\n",
        "    results.append((b0, a1, a0))\n",
        "\n",
        "    return results\n",
        "\n",
        "def akar(b0, a1, a0):\n",
        "    root1 = int(round(-b0))\n",
        "    coeffs = [1, a1, a0]\n",
        "    quad_roots = np.roots(coeffs)\n",
        "\n",
        "    hasil_akar = []\n",
        "    for r in quad_roots:\n",
        "        if r.imag == 0:\n",
        "            hasil_akar.append(int(round(r.real)))\n",
        "        else:\n",
        "            real_part = int(round(r.real))\n",
        "            imag_part = int(round(r.imag))\n",
        "            hasil_akar.append(complex(real_part, imag_part))\n",
        "\n",
        "    return [root1] + hasil_akar\n",
        "\n",
        "\n",
        "# Input\n",
        "input_user = input(\"Masukkan persamaan (misal: f(x) = x**3 + 2*x**2 + 3*x + 4): \")\n",
        "a3, A2, A1, A0 = persamaan(input_user)\n",
        "\n",
        "iterasi = faktorisasi(A2, A1, A0)\n",
        "\n",
        "# Output\n",
        "for i, (b0, a1, a0) in enumerate(iterasi, 1):\n",
        "    print(f\"Hasil Iterasi {i}: b0 = {b0}, a1 = {a1}, a0 = {a0}\")\n",
        "\n",
        "final_b0, final_a1, final_a0 = iterasi[-1]\n",
        "roots = akar(final_b0, final_a1, final_a0)\n",
        "\n",
        "print(\"\\nAkar-akar persamaan dari faktorisasi:\")\n",
        "for i, r in enumerate(roots, 1):\n",
        "    print(f\"Akar {i}: {r}\")\n"
      ]
    }
  ]
}